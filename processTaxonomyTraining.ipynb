{
 "cells": [
  {
   "cell_type": "code",
   "execution_count": 1,
   "metadata": {
    "collapsed": false
   },
   "outputs": [
    {
     "name": "stdout",
     "output_type": "stream",
     "text": [
      "['tamr_id', 'taxonomyid', 'naic_tamr_taxdesc']\n",
      "new line\n",
      "[\"Information\", \"Other Information Services\", \"Other Information Services\"]\n",
      "[\"Health Care and Social Assistance\", \"Ambulatory Health Care Services\", \"Offices of Physicians\"]\n",
      "[\"Health Care and Social Assistance\", \"Ambulatory Health Care Services\", \"Offices of Physicians\"]\n",
      "[\"Professional  Scientific  and Technical Services\", \"Professional, Scientific, and Technical Services\", \"Management, Scientific, and Technical Consulting Services\"]\n",
      "[\"Information\", \"Other Information Services\", \"Other Information Services\"]\n",
      "[\"Information\", \"Other Information Services\", \"Other Information Services\"]\n",
      "[\"Utilities\", \"Utilities \", \"Natural Gas Distribution \"]\n",
      "[\"Utilities\", \"Utilities \", \"Natural Gas Distribution \"]\n",
      "[\"Information\", \"Other Information Services\", \"Other Information Services\"]\n",
      "[\"Information\", \"Other Information Services\", \"Other Information Services\"]\n",
      "[\"Professional  Scientific  and Technical Services\", \"Professional, Scientific, and Technical Services\", \"Management, Scientific, and Technical Consulting Services\"]\n",
      "[\"Real Estate and Rental and Leasing\", \"Rental and Leasing Services\", \"Automotive Equipment Rental and Leasing\"]\n",
      "[\"Professional  Scientific  and Technical Services\", \"Professional, Scientific, and Technical Services\", \"Computer Systems Design and Related Services\"]\n",
      "[\"Professional  Scientific  and Technical Services\", \"Professional, Scientific, and Technical Services\", \"Computer Systems Design and Related Services\"]\n",
      "[\"Information\", \"Publishing Industries (except Internet)\", \"Newspaper, Periodical, Book, and Directory Publishers\"]\n",
      "[\"Administrative and Support and Waste Management and Remediation Services\", \"Administrative and Support Services\", \"Employment Services\"]\n",
      "[\"Information\", \"Telecommunications\", \"Wireless Telecommunications Carriers (except Satellite)\"]\n",
      "[\"Professional  Scientific  and Technical Services\", \"Professional, Scientific, and Technical Services\", \"Computer Systems Design and Related Services\"]\n",
      "[\"Information\", \"Telecommunications\", \"Wireless Telecommunications Carriers (except Satellite)\"]\n",
      "[\"Information\", \"Telecommunications\", \"Wireless Telecommunications Carriers (except Satellite)\"]\n",
      "[\"Information\", \"Telecommunications\", \"Wireless Telecommunications Carriers (except Satellite)\"]\n",
      "[\"Administrative and Support and Waste Management and Remediation Services\", \"Administrative and Support Services\", \"Employment Services\"]\n"
     ]
    }
   ],
   "source": [
    "import sys, getopt\n",
    "import csv\n",
    "import json\n",
    "\n",
    "#str3='Information\\nOther Information Services\\nOther Information Services'\n",
    "\n",
    "#testString=\"Wholesale Trade\\nMerchant Wholesalers, Durable Goods \\nFurniture and Home Furnishing Merchant Wholesalers\"\n",
    "#print json.dumps(testString.split('\\n'))\n",
    "\n",
    "    \n",
    "with open ('/Users/Pete/Customers/taxtest.csv', 'rU') as csvfile: \n",
    "#    next(csvfile, None) # skip header\n",
    "    plotlist = csv.reader(csvfile)\n",
    "    headers = plotlist.next()\n",
    "    print headers\n",
    "    print \"new line\"\n",
    "    for i, row in enumerate(plotlist):\n",
    "        arg1= row[2].split('-')\n",
    "#       writer.writerow([row[i],arg1])\n",
    "        \n",
    "        print json.dumps(arg1)\n",
    "        #print json.dumps(row[2].split('-'))\n",
    "        \n"
   ]
  },
  {
   "cell_type": "code",
   "execution_count": null,
   "metadata": {
    "collapsed": true
   },
   "outputs": [],
   "source": []
  },
  {
   "cell_type": "code",
   "execution_count": null,
   "metadata": {
    "collapsed": true
   },
   "outputs": [],
   "source": []
  }
 ],
 "metadata": {
  "kernelspec": {
   "display_name": "Python 2",
   "language": "python",
   "name": "python2"
  },
  "language_info": {
   "codemirror_mode": {
    "name": "ipython",
    "version": 2
   },
   "file_extension": ".py",
   "mimetype": "text/x-python",
   "name": "python",
   "nbconvert_exporter": "python",
   "pygments_lexer": "ipython2",
   "version": "2.7.11"
  }
 },
 "nbformat": 4,
 "nbformat_minor": 0
}
